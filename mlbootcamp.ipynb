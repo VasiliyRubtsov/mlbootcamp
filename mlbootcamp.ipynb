{
 "cells": [
  {
   "cell_type": "code",
   "execution_count": 26,
   "metadata": {
    "collapsed": false
   },
   "outputs": [],
   "source": [
    "import pandas as pd\n",
    "import numpy as np\n",
    "import seaborn as sns\n",
    "import xgboost\n",
    "from sklearn.cross_validation import train_test_split, KFold\n",
    "from sklearn.preprocessing import minmax_scale\n",
    "from sklearn.metrics import log_loss\n",
    "%matplotlib inline\n",
    "\n",
    "import lasagne\n",
    "import theano\n",
    "import theano.tensor as T\n",
    "from lasagne.layers import *"
   ]
  },
  {
   "cell_type": "code",
   "execution_count": 2,
   "metadata": {
    "collapsed": true
   },
   "outputs": [],
   "source": [
    "data = pd.read_csv('train.csv', sep=';')\n",
    "Xtest = pd.read_csv('test.csv', sep=';')"
   ]
  },
  {
   "cell_type": "code",
   "execution_count": 3,
   "metadata": {
    "collapsed": true
   },
   "outputs": [],
   "source": [
    "Xtest = Xtest.set_index('id')\n",
    "X = data.drop(['cardio', 'id'], axis=1)\n",
    "y = data.cardio"
   ]
  },
  {
   "cell_type": "code",
   "execution_count": 5,
   "metadata": {
    "collapsed": true
   },
   "outputs": [],
   "source": [
    "X.age = (X.age / 365).apply(int)\n",
    "Xtest.age = (Xtest.age / 365).apply(int)"
   ]
  },
  {
   "cell_type": "code",
   "execution_count": 6,
   "metadata": {
    "collapsed": true
   },
   "outputs": [],
   "source": [
    "X['strange'] = (X.ap_hi < 60) | (X.ap_hi>300) | (X.ap_lo < 40) | (X.ap_lo > 500)\n",
    "Xtest['strange'] = (Xtest.ap_hi < 60) | (Xtest.ap_hi>300) | (Xtest.ap_lo < 40) | (Xtest.ap_lo > 500)"
   ]
  },
  {
   "cell_type": "code",
   "execution_count": 7,
   "metadata": {
    "collapsed": true
   },
   "outputs": [],
   "source": [
    "replace1 = {(1,2088):(120,88),\n",
    "            (1,1088):(110,88),\n",
    "            (10,160):(100,60),\n",
    "            (11,120):(120,80),\n",
    "            (12,0):(120,80),\n",
    "            (12,140):(120,80),\n",
    "            (13,0):(130,90),\n",
    "            (13,585):(135,85),\n",
    "            (16,10):(160,100),\n",
    "            (20,170):(120,70),\n",
    "            (24,20):(120,80),\n",
    "            (309,0):(130,90),\n",
    "            (806,0):(80,60),\n",
    "            (906,0):(90,60),\n",
    "            (130,0):(130,90),\n",
    "            (138,0):(130,80),\n",
    "            (149,0):(140,90),\n",
    "            (140,0):(140,90),\n",
    "            (907,0):(90,70),\n",
    "            (108,0):(100,80),\n",
    "            (121,0):(120,80),\n",
    "            (13,0):(130,80),\n",
    "            (120,0):(120,80),\n",
    "            (117,0):(120,80),\n",
    "            (70,15):(120,80),\n",
    "            (1,1099):(110,99),\n",
    "            (1,30):(120,80),\n",
    "            (10,0):(100,60),\n",
    "            (11,570):(115,70),\n",
    "            (16,10):(160,100),\n",
    "            (17,12):(170,120),\n",
    "            (400,60):(120,80),\n",
    "            (509,0):(150,90),\n",
    "            (16020,70):(120,80),\n",
    "            (180,0):(100,80)\n",
    "           }\n",
    "replace2 = {-150:150,\n",
    "            -140:140,\n",
    "            -120:120,\n",
    "            -115:115,\n",
    "            -100:100,\n",
    "            10:100,\n",
    "            11:110,\n",
    "            12:120,\n",
    "            13:130,\n",
    "            14:140,\n",
    "            15:150,\n",
    "            16:160,\n",
    "            17:170,\n",
    "            19:190,\n",
    "            20:120,\n",
    "            401:140,\n",
    "            701:170,\n",
    "            902:90,\n",
    "            906:90,\n",
    "            1110:110,\n",
    "            1130:130,\n",
    "            1202:120,\n",
    "            1205:120,\n",
    "            1300:130,\n",
    "            1400:140,\n",
    "            1409:140,\n",
    "            1420:120,\n",
    "            1500:150,\n",
    "            1620:120,\n",
    "            2000:200,\n",
    "            11020:110,\n",
    "            11500:115,\n",
    "            13010:130,\n",
    "            14020:140,\n",
    "            16020:160,\n",
    "            -130:130,\n",
    "            -12:120,\n",
    "            907:90,\n",
    "            957:95,\n",
    "            1407:140,\n",
    "            1502:150,\n",
    "            1608:160,\n",
    "            12008:120,\n",
    "            14020:140,\n",
    "            14900:140}\n",
    "replace3 = {-70:70,\n",
    "            1:80,\n",
    "            6:60,\n",
    "            7:70,\n",
    "            8:80,\n",
    "            9:90,\n",
    "            10:100,\n",
    "            20:80,\n",
    "            30:80,\n",
    "            190:90,\n",
    "            602:60,\n",
    "            700:70,\n",
    "            708:70,\n",
    "            709:70,\n",
    "            710:70,\n",
    "            800:80,\n",
    "            801:80,\n",
    "            802:80,\n",
    "            809:80,\n",
    "            810:80,\n",
    "            820:80,\n",
    "            850:80,\n",
    "            870:80,\n",
    "            880:80,\n",
    "            900:90,\n",
    "            901:90,\n",
    "            902:90,\n",
    "            910:90,\n",
    "            1000:100,\n",
    "            1001:100,\n",
    "            1002:100,\n",
    "            1003:100,\n",
    "            1007:100,\n",
    "            1004:100,\n",
    "            1099:100,\n",
    "            1066:100,\n",
    "            1009:100,\n",
    "            1008:100,\n",
    "            1011:100,\n",
    "            1022:100,\n",
    "            1033:100,\n",
    "            1044:100,\n",
    "            1077:100,\n",
    "            1088:88,\n",
    "            1100:110,\n",
    "            1101:110,\n",
    "            1110:110,\n",
    "            1111:110,\n",
    "            1120:120,\n",
    "            1125:110,\n",
    "            1130:110,\n",
    "            1139:140,\n",
    "            1140:140,\n",
    "            1177:117,\n",
    "            1200:120,\n",
    "            1211:121,\n",
    "            1300:130,\n",
    "            1400:140,\n",
    "            1900:90,\n",
    "            5700:57,\n",
    "            6800:68,\n",
    "            7099:100,\n",
    "            7100:100,\n",
    "            8000:80,\n",
    "            8044:80,\n",
    "            8077:80,\n",
    "            8079:80,\n",
    "            8099:80,\n",
    "            8100:100,\n",
    "            8200:80,\n",
    "            8500:80,\n",
    "            9011:90,\n",
    "            9100:100,\n",
    "            9800:80,\n",
    "            10000:100,\n",
    "            11000:110,\n",
    "            -90:90,\n",
    "            12:120,\n",
    "            19:80,\n",
    "            20:80,\n",
    "            30:80,\n",
    "            701:70,\n",
    "            808:80,\n",
    "            4100:100,\n",
    "            4700:70,\n",
    "            8022:80}"
   ]
  },
  {
   "cell_type": "code",
   "execution_count": 8,
   "metadata": {
    "collapsed": true
   },
   "outputs": [],
   "source": [
    "for i in range(len(X)):\n",
    "    k = (X.ap_hi.values[i], X.ap_lo.values[i])\n",
    "    if k in replace1:\n",
    "        (X.ap_hi.values[i], X.ap_lo.values[i]) = replace1[k]\n",
    "        \n",
    "for i in range(len(Xtest)):\n",
    "    k = (Xtest.ap_hi.values[i], Xtest.ap_lo.values[i])\n",
    "    if k in replace1:\n",
    "        (Xtest.ap_hi.values[i], Xtest.ap_lo.values[i]) = replace1[k]"
   ]
  },
  {
   "cell_type": "code",
   "execution_count": 9,
   "metadata": {
    "collapsed": true
   },
   "outputs": [],
   "source": [
    "X.ap_hi = X.ap_hi.replace(replace2)\n",
    "Xtest.ap_hi = Xtest.ap_hi.replace(replace2)\n",
    "X.ap_lo = X.ap_lo.replace(replace3)\n",
    "Xtest.ap_lo = Xtest.ap_lo.replace(replace3)"
   ]
  },
  {
   "cell_type": "code",
   "execution_count": 10,
   "metadata": {
    "collapsed": true
   },
   "outputs": [],
   "source": [
    "X['weird_feature'] = X.ap_hi % 10 == 0\n",
    "Xtest['weird_feature'] = Xtest.ap_hi % 10 == 0"
   ]
  },
  {
   "cell_type": "code",
   "execution_count": 11,
   "metadata": {
    "collapsed": true
   },
   "outputs": [],
   "source": [
    "index = X.ap_hi < X.ap_lo\n",
    "tmp = X.ap_hi[index]\n",
    "X.loc[index, 'ap_hi'] = X.ap_lo[index]\n",
    "X.loc[index, 'ap_lo'] = tmp"
   ]
  },
  {
   "cell_type": "code",
   "execution_count": 12,
   "metadata": {
    "collapsed": true
   },
   "outputs": [],
   "source": [
    "index = Xtest.ap_hi < Xtest.ap_lo\n",
    "tmp = Xtest.ap_hi[index]\n",
    "Xtest.loc[index, 'ap_hi'] = Xtest.ap_lo[index]\n",
    "Xtest.loc[index, 'ap_lo'] = tmp"
   ]
  },
  {
   "cell_type": "code",
   "execution_count": 13,
   "metadata": {
    "collapsed": true
   },
   "outputs": [],
   "source": [
    "def create_linear(X):\n",
    "    columns = ['cholesterol', 'gluc', 'ap_hi', 'age']\n",
    "    Xtmp = X[['age']]\n",
    "    X_linear = pd.get_dummies(X, columns=columns)\n",
    "    X_linear = pd.concat([X_linear, Xtmp], axis=1)\n",
    "    return minmax_scale(X_linear)"
   ]
  },
  {
   "cell_type": "code",
   "execution_count": 14,
   "metadata": {
    "collapsed": true
   },
   "outputs": [],
   "source": [
    "Xtest.alco = Xtest.alco.replace('None', 0).astype('int64')\n",
    "Xtest.smoke = Xtest.smoke.replace('None', 0).astype('int64')\n",
    "Xtest.active = Xtest.active.replace('None', 1).astype('int64')"
   ]
  },
  {
   "cell_type": "code",
   "execution_count": 16,
   "metadata": {
    "collapsed": true
   },
   "outputs": [],
   "source": [
    "X_tmp = create_linear(pd.concat([X, Xtest]))\n",
    "X_linear = X_tmp[:len(X)]\n",
    "Xtest_linear = X_tmp[len(X):]"
   ]
  },
  {
   "cell_type": "code",
   "execution_count": 17,
   "metadata": {
    "collapsed": true
   },
   "outputs": [],
   "source": [
    "def iterate_minibatches(*arrays,**kwargs):\n",
    "    \n",
    "    batchsize=kwargs.get(\"batchsize\",100)\n",
    "    shuffle = kwargs.get(\"shuffle\",True)\n",
    "    \n",
    "    if shuffle:\n",
    "        indices = np.arange(len(arrays[0]))\n",
    "        np.random.shuffle(indices)\n",
    "    for start_idx in range(0, len(arrays[0]) - batchsize + 1, batchsize):\n",
    "        if shuffle:\n",
    "            excerpt = indices[start_idx:start_idx + batchsize]\n",
    "        else:\n",
    "            excerpt = slice(start_idx, start_idx + batchsize)\n",
    "        yield [arr[excerpt] for arr in arrays]\n",
    "\n",
    "def proba_from_nn(Xtrain, Xtest, ytrain):\n",
    "    \n",
    "    ytrain = np.array(ytrain).astype('int32')\n",
    "    input_X = T.matrix()\n",
    "    target_y = T.vector(dtype='int32')\n",
    "    input_shape = (None, Xtrain.shape[1])\n",
    "    \n",
    "    nn = InputLayer(shape =input_shape, input_var=input_X)\n",
    "    nn = DenseLayer(nn, num_units=5, nonlinearity=lasagne.nonlinearities.sigmoid)\n",
    "    nn = DenseLayer(nn, num_units=2, nonlinearity=lasagne.nonlinearities.softmax)\n",
    "    \n",
    "    y_predicted     = get_output(nn)\n",
    "    all_weights     = get_all_params(nn, trainable=True)\n",
    "    loss            = lasagne.objectives.categorical_crossentropy(y_predicted, target_y).mean()\n",
    "    updates         = lasagne.updates.adamax(loss, all_weights)\n",
    "    train_fun       = theano.function([input_X, target_y],loss, updates= updates)\n",
    "    loss_fun        = theano.function([input_X, target_y], loss)\n",
    "    pred            = theano.function([input_X], y_predicted)\n",
    "    \n",
    "    batch_size = 50\n",
    "    for epoch in range(100):\n",
    "        train_err = 0\n",
    "        train_batches = 0\n",
    "        for batch in iterate_minibatches(Xtrain, ytrain, batchsize=batch_size):\n",
    "            inputs, targets = batch\n",
    "            train_err_batch = train_fun(inputs, targets)\n",
    "            train_err += train_err_batch\n",
    "            train_batches += 1\n",
    "    return pred(Xtest)[:, 1]"
   ]
  },
  {
   "cell_type": "code",
   "execution_count": 19,
   "metadata": {
    "collapsed": true
   },
   "outputs": [],
   "source": [
    "param_eta = [0.01]\n",
    "param_max_depth = [4, 5, 6]\n",
    "param_subsample = [0.7, 0.8, 0.9]\n",
    "param_colsample_bytree = [0.8, 0.9]\n",
    "param_seed = [1, 2, 3]"
   ]
  },
  {
   "cell_type": "code",
   "execution_count": 20,
   "metadata": {
    "collapsed": false
   },
   "outputs": [
    {
     "name": "stdout",
     "output_type": "stream",
     "text": [
      "0\n",
      "1\n",
      "2\n",
      "3\n",
      "4\n",
      "5\n",
      "6\n",
      "7\n",
      "8\n",
      "9\n",
      "10\n",
      "11\n",
      "12\n",
      "13\n",
      "14\n",
      "15\n",
      "16\n",
      "17\n",
      "18\n",
      "19\n",
      "20\n",
      "21\n",
      "22\n",
      "23\n",
      "24\n",
      "25\n",
      "26\n",
      "27\n",
      "28\n",
      "29\n",
      "30\n",
      "31\n",
      "32\n",
      "33\n",
      "34\n",
      "35\n",
      "36\n",
      "37\n",
      "38\n",
      "39\n",
      "40\n",
      "41\n",
      "42\n",
      "43\n",
      "44\n",
      "45\n",
      "46\n",
      "47\n",
      "48\n",
      "49\n",
      "50\n",
      "51\n",
      "52\n",
      "53\n",
      "CPU times: user 8h 41min 47s, sys: 52min 15s, total: 9h 34min 2s\n",
      "Wall time: 2h 4min 51s\n"
     ]
    }
   ],
   "source": [
    "%%time\n",
    "all_params = []\n",
    "params = {'objective':'binary:logistic',\n",
    "         'booster':'gbtree',\n",
    "         'nthread':8,\n",
    "         'eval_metric':'logloss'}\n",
    "xgall = xgboost.DMatrix(X, label=y)\n",
    "i = 0\n",
    "for eta in param_eta:\n",
    "    for max_depth in param_max_depth:\n",
    "        for subsample in param_subsample:\n",
    "            for colsample_bytree in param_colsample_bytree:\n",
    "                for seed in param_seed:\n",
    "                    params['seed'] = seed\n",
    "                    params['eta'] = eta\n",
    "                    params['max_depth'] = max_depth\n",
    "                    params['subsample'] = subsample\n",
    "                    params['colsample_bytree'] = colsample_bytree\n",
    "                    dataframe = xgboost.cv(params=list(params.items()), \n",
    "                                          early_stopping_rounds=50,\n",
    "                                          dtrain=xgall,\n",
    "                                          nfold=10,\n",
    "                                          num_boost_round=10000)\n",
    "                    num_boost_round = len(dataframe)\n",
    "                    params['boost_round'] = num_boost_round\n",
    "                    all_params.append(params.copy())\n",
    "                    print(i)\n",
    "                    i += 1"
   ]
  },
  {
   "cell_type": "code",
   "execution_count": 21,
   "metadata": {
    "collapsed": true
   },
   "outputs": [],
   "source": [
    "p1_test = np.mean([proba_from_nn(X_linear, Xtest_linear, y) for i in range(20)], axis=0)"
   ]
  },
  {
   "cell_type": "code",
   "execution_count": 22,
   "metadata": {
    "collapsed": false
   },
   "outputs": [
    {
     "name": "stdout",
     "output_type": "stream",
     "text": [
      "0\n",
      "1\n",
      "2\n",
      "3\n",
      "4\n",
      "5\n",
      "6\n",
      "7\n",
      "8\n",
      "9\n",
      "10\n",
      "11\n",
      "12\n",
      "13\n",
      "14\n",
      "15\n",
      "16\n",
      "17\n",
      "18\n",
      "19\n",
      "20\n",
      "21\n",
      "22\n",
      "23\n",
      "24\n",
      "25\n",
      "26\n",
      "27\n",
      "28\n",
      "29\n",
      "30\n",
      "31\n",
      "32\n",
      "33\n",
      "34\n",
      "35\n",
      "36\n",
      "37\n",
      "38\n",
      "39\n",
      "40\n",
      "41\n",
      "42\n",
      "43\n",
      "44\n",
      "45\n",
      "46\n",
      "47\n",
      "48\n",
      "49\n",
      "50\n",
      "51\n",
      "52\n",
      "53\n",
      "CPU times: user 48min 29s, sys: 4min 13s, total: 52min 43s\n",
      "Wall time: 11min 13s\n"
     ]
    }
   ],
   "source": [
    "%%time\n",
    "i = 0\n",
    "proba_test = []\n",
    "for params in all_params:\n",
    "    num_boost_round = params['boost_round']\n",
    "    xgtrain = xgboost.DMatrix(X, label=y)\n",
    "    xgtest = xgboost.DMatrix(Xtest)\n",
    "    model = xgboost.train(params=list(params.items()), \n",
    "                         dtrain=xgtrain,\n",
    "                         num_boost_round=num_boost_round)\n",
    "    proba_test.append(model.predict(xgtest))\n",
    "    print(i)\n",
    "    i+=1"
   ]
  },
  {
   "cell_type": "code",
   "execution_count": 23,
   "metadata": {
    "collapsed": true
   },
   "outputs": [],
   "source": [
    "p2_test = np.mean(proba_test, axis=0)"
   ]
  },
  {
   "cell_type": "code",
   "execution_count": 24,
   "metadata": {
    "collapsed": true
   },
   "outputs": [],
   "source": [
    "a = np.array([4, 1])\n",
    "a = a/a.sum()\n",
    "p = pd.DataFrame(a.dot([p1_test, p2_test]))"
   ]
  },
  {
   "cell_type": "code",
   "execution_count": 25,
   "metadata": {
    "collapsed": true
   },
   "outputs": [],
   "source": [
    "p.to_csv('solution.csv', header=None, index=None)"
   ]
  },
  {
   "cell_type": "code",
   "execution_count": null,
   "metadata": {
    "collapsed": true
   },
   "outputs": [],
   "source": []
  }
 ],
 "metadata": {
  "kernelspec": {
   "display_name": "Python 3",
   "language": "python",
   "name": "python3"
  },
  "language_info": {
   "codemirror_mode": {
    "name": "ipython",
    "version": 3
   },
   "file_extension": ".py",
   "mimetype": "text/x-python",
   "name": "python",
   "nbconvert_exporter": "python",
   "pygments_lexer": "ipython3",
   "version": "3.5.2"
  }
 },
 "nbformat": 4,
 "nbformat_minor": 0
}
